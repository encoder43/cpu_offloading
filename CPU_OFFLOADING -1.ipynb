{
  "cells": [
    {
      "cell_type": "markdown",
      "metadata": {
        "id": "2tUSbYD0yd3y"
      },
      "source": [
        "# LIBRARIES"
      ]
    },
    {
      "cell_type": "code",
      "execution_count": 258,
      "metadata": {
        "id": "49JBd2Nyv6zi"
      },
      "outputs": [],
      "source": [
        "import numpy as np\n",
        "import matplotlib.pyplot as plt\n",
        "import pandas as pd\n",
        "import seaborn as sns\n",
        "from sklearn.model_selection import train_test_split\n",
        "from sklearn import preprocessing\n",
        "from sklearn.preprocessing import StandardScaler\n",
        "from sklearn import metrics\n",
        "# set randomseed\n",
        "rng = np.random.default_rng(seed=42)"
      ]
    },
    {
      "cell_type": "markdown",
      "metadata": {
        "id": "2R0tp9bsxurZ"
      },
      "source": [
        "Regression models"
      ]
    },
    {
      "cell_type": "code",
      "execution_count": 259,
      "metadata": {
        "id": "NepufGpLxtLd"
      },
      "outputs": [],
      "source": [
        "from lightgbm import LGBMRegressor"
      ]
    },
    {
      "cell_type": "markdown",
      "metadata": {
        "id": "MNyVaU0Q0hb7"
      },
      "source": [
        "# **Data collection and processing**"
      ]
    },
    {
      "cell_type": "code",
      "execution_count": 260,
      "metadata": {
        "id": "JzbQIX8Bzmz3"
      },
      "outputs": [],
      "source": [
        "# loading the data from csv file to a Pandas DataFrame\n",
        "dataframe_prog= pd.read_csv('E:\\IOMT\\Task 3\\stats_program.csv',index_col=0)"
      ]
    },
    {
      "cell_type": "code",
      "execution_count": 261,
      "metadata": {
        "colab": {
          "base_uri": "https://localhost:8080/",
          "height": 206
        },
        "id": "YS1qbQ5W3q8B",
        "outputId": "88576658-811e-40ee-db06-6daa4e8149a5"
      },
      "outputs": [
        {
          "data": {
            "text/html": [
              "<div>\n",
              "<style scoped>\n",
              "    .dataframe tbody tr th:only-of-type {\n",
              "        vertical-align: middle;\n",
              "    }\n",
              "\n",
              "    .dataframe tbody tr th {\n",
              "        vertical-align: top;\n",
              "    }\n",
              "\n",
              "    .dataframe thead th {\n",
              "        text-align: right;\n",
              "    }\n",
              "</style>\n",
              "<table border=\"1\" class=\"dataframe\">\n",
              "  <thead>\n",
              "    <tr style=\"text-align: right;\">\n",
              "      <th></th>\n",
              "      <th>process_cpu_percent</th>\n",
              "      <th>process_rss_percent</th>\n",
              "      <th>proces_vms_percent</th>\n",
              "      <th>process_data_percent</th>\n",
              "      <th>data_time</th>\n",
              "    </tr>\n",
              "    <tr>\n",
              "      <th>S.no</th>\n",
              "      <th></th>\n",
              "      <th></th>\n",
              "      <th></th>\n",
              "      <th></th>\n",
              "      <th></th>\n",
              "    </tr>\n",
              "  </thead>\n",
              "  <tbody>\n",
              "    <tr>\n",
              "      <th>1</th>\n",
              "      <td>0.0</td>\n",
              "      <td>13.307912</td>\n",
              "      <td>26.576486</td>\n",
              "      <td>14.105149</td>\n",
              "      <td>1665678397</td>\n",
              "    </tr>\n",
              "    <tr>\n",
              "      <th>2</th>\n",
              "      <td>0.0</td>\n",
              "      <td>13.307912</td>\n",
              "      <td>26.576486</td>\n",
              "      <td>14.105149</td>\n",
              "      <td>1665678399</td>\n",
              "    </tr>\n",
              "    <tr>\n",
              "      <th>3</th>\n",
              "      <td>0.0</td>\n",
              "      <td>13.207294</td>\n",
              "      <td>26.576486</td>\n",
              "      <td>14.105149</td>\n",
              "      <td>1665678401</td>\n",
              "    </tr>\n",
              "    <tr>\n",
              "      <th>4</th>\n",
              "      <td>0.0</td>\n",
              "      <td>13.202747</td>\n",
              "      <td>26.576486</td>\n",
              "      <td>14.105149</td>\n",
              "      <td>1665678403</td>\n",
              "    </tr>\n",
              "    <tr>\n",
              "      <th>5</th>\n",
              "      <td>61.9</td>\n",
              "      <td>9.193432</td>\n",
              "      <td>22.451134</td>\n",
              "      <td>9.979797</td>\n",
              "      <td>1665678405</td>\n",
              "    </tr>\n",
              "  </tbody>\n",
              "</table>\n",
              "</div>"
            ],
            "text/plain": [
              "      process_cpu_percent  process_rss_percent  proces_vms_percent  \\\n",
              "S.no                                                                 \n",
              "1                     0.0            13.307912           26.576486   \n",
              "2                     0.0            13.307912           26.576486   \n",
              "3                     0.0            13.207294           26.576486   \n",
              "4                     0.0            13.202747           26.576486   \n",
              "5                    61.9             9.193432           22.451134   \n",
              "\n",
              "      process_data_percent   data_time  \n",
              "S.no                                    \n",
              "1                14.105149  1665678397  \n",
              "2                14.105149  1665678399  \n",
              "3                14.105149  1665678401  \n",
              "4                14.105149  1665678403  \n",
              "5                 9.979797  1665678405  "
            ]
          },
          "execution_count": 261,
          "metadata": {},
          "output_type": "execute_result"
        }
      ],
      "source": [
        "dataframe_prog.head()"
      ]
    },
    {
      "cell_type": "code",
      "execution_count": 262,
      "metadata": {
        "id": "b66prjFu46WU"
      },
      "outputs": [],
      "source": [
        "dataframe_ster=pd.read_csv('E:\\IOMT\\Task 3\\stats_serialized.csv',index_col=0)"
      ]
    },
    {
      "cell_type": "code",
      "execution_count": 263,
      "metadata": {
        "colab": {
          "base_uri": "https://localhost:8080/",
          "height": 206
        },
        "id": "Ickrac9w5MFW",
        "outputId": "b7aaa985-f538-4793-c92e-7c01f22de6a5"
      },
      "outputs": [
        {
          "data": {
            "text/html": [
              "<div>\n",
              "<style scoped>\n",
              "    .dataframe tbody tr th:only-of-type {\n",
              "        vertical-align: middle;\n",
              "    }\n",
              "\n",
              "    .dataframe tbody tr th {\n",
              "        vertical-align: top;\n",
              "    }\n",
              "\n",
              "    .dataframe thead th {\n",
              "        text-align: right;\n",
              "    }\n",
              "</style>\n",
              "<table border=\"1\" class=\"dataframe\">\n",
              "  <thead>\n",
              "    <tr style=\"text-align: right;\">\n",
              "      <th></th>\n",
              "      <th>cpu_times_user</th>\n",
              "      <th>cpu_times_nice</th>\n",
              "      <th>cpu_times_system</th>\n",
              "      <th>cpu_times_idle</th>\n",
              "      <th>cpu_times_iowait</th>\n",
              "      <th>cpu_times_irq</th>\n",
              "      <th>cpu_times_softirq</th>\n",
              "      <th>cpu_times_steal</th>\n",
              "      <th>cpu_times_guest</th>\n",
              "      <th>cpu_times_guest_nice</th>\n",
              "      <th>...</th>\n",
              "      <th>swap_sout</th>\n",
              "      <th>disk_read_count</th>\n",
              "      <th>disk_write_count</th>\n",
              "      <th>disk_read_bytes</th>\n",
              "      <th>disk_write_bytes</th>\n",
              "      <th>disk_read_time</th>\n",
              "      <th>disk_write_time</th>\n",
              "      <th>disk_read_merged_count</th>\n",
              "      <th>disk_write_merged_count</th>\n",
              "      <th>disk_busy_count</th>\n",
              "    </tr>\n",
              "    <tr>\n",
              "      <th>s.no</th>\n",
              "      <th></th>\n",
              "      <th></th>\n",
              "      <th></th>\n",
              "      <th></th>\n",
              "      <th></th>\n",
              "      <th></th>\n",
              "      <th></th>\n",
              "      <th></th>\n",
              "      <th></th>\n",
              "      <th></th>\n",
              "      <th></th>\n",
              "      <th></th>\n",
              "      <th></th>\n",
              "      <th></th>\n",
              "      <th></th>\n",
              "      <th></th>\n",
              "      <th></th>\n",
              "      <th></th>\n",
              "      <th></th>\n",
              "      <th></th>\n",
              "      <th></th>\n",
              "    </tr>\n",
              "  </thead>\n",
              "  <tbody>\n",
              "    <tr>\n",
              "      <th>1</th>\n",
              "      <td>316.83</td>\n",
              "      <td>10.83</td>\n",
              "      <td>28.97</td>\n",
              "      <td>7749.76</td>\n",
              "      <td>193.11</td>\n",
              "      <td>0</td>\n",
              "      <td>0.54</td>\n",
              "      <td>0</td>\n",
              "      <td>0</td>\n",
              "      <td>0</td>\n",
              "      <td>...</td>\n",
              "      <td>495980544</td>\n",
              "      <td>59506</td>\n",
              "      <td>15120</td>\n",
              "      <td>2158542336</td>\n",
              "      <td>1280365568</td>\n",
              "      <td>477475</td>\n",
              "      <td>455251</td>\n",
              "      <td>19464</td>\n",
              "      <td>121598</td>\n",
              "      <td>265428</td>\n",
              "    </tr>\n",
              "    <tr>\n",
              "      <th>2</th>\n",
              "      <td>317.00</td>\n",
              "      <td>10.83</td>\n",
              "      <td>28.98</td>\n",
              "      <td>7751.53</td>\n",
              "      <td>193.14</td>\n",
              "      <td>0</td>\n",
              "      <td>0.54</td>\n",
              "      <td>0</td>\n",
              "      <td>0</td>\n",
              "      <td>0</td>\n",
              "      <td>...</td>\n",
              "      <td>495980544</td>\n",
              "      <td>59512</td>\n",
              "      <td>15120</td>\n",
              "      <td>2158571008</td>\n",
              "      <td>1280365568</td>\n",
              "      <td>477507</td>\n",
              "      <td>455251</td>\n",
              "      <td>19465</td>\n",
              "      <td>121598</td>\n",
              "      <td>265472</td>\n",
              "    </tr>\n",
              "    <tr>\n",
              "      <th>3</th>\n",
              "      <td>317.10</td>\n",
              "      <td>10.83</td>\n",
              "      <td>29.00</td>\n",
              "      <td>7753.41</td>\n",
              "      <td>193.14</td>\n",
              "      <td>0</td>\n",
              "      <td>0.54</td>\n",
              "      <td>0</td>\n",
              "      <td>0</td>\n",
              "      <td>0</td>\n",
              "      <td>...</td>\n",
              "      <td>495980544</td>\n",
              "      <td>59513</td>\n",
              "      <td>15161</td>\n",
              "      <td>2158575104</td>\n",
              "      <td>1280640000</td>\n",
              "      <td>477508</td>\n",
              "      <td>455258</td>\n",
              "      <td>19465</td>\n",
              "      <td>121599</td>\n",
              "      <td>265480</td>\n",
              "    </tr>\n",
              "    <tr>\n",
              "      <th>4</th>\n",
              "      <td>317.47</td>\n",
              "      <td>10.83</td>\n",
              "      <td>29.01</td>\n",
              "      <td>7755.01</td>\n",
              "      <td>193.14</td>\n",
              "      <td>0</td>\n",
              "      <td>0.54</td>\n",
              "      <td>0</td>\n",
              "      <td>0</td>\n",
              "      <td>0</td>\n",
              "      <td>...</td>\n",
              "      <td>495980544</td>\n",
              "      <td>59513</td>\n",
              "      <td>15163</td>\n",
              "      <td>2158575104</td>\n",
              "      <td>1280668672</td>\n",
              "      <td>477508</td>\n",
              "      <td>455307</td>\n",
              "      <td>19465</td>\n",
              "      <td>121604</td>\n",
              "      <td>265532</td>\n",
              "    </tr>\n",
              "    <tr>\n",
              "      <th>5</th>\n",
              "      <td>317.49</td>\n",
              "      <td>10.83</td>\n",
              "      <td>29.02</td>\n",
              "      <td>7756.94</td>\n",
              "      <td>193.19</td>\n",
              "      <td>0</td>\n",
              "      <td>0.54</td>\n",
              "      <td>0</td>\n",
              "      <td>0</td>\n",
              "      <td>0</td>\n",
              "      <td>...</td>\n",
              "      <td>495980544</td>\n",
              "      <td>59513</td>\n",
              "      <td>15163</td>\n",
              "      <td>2158575104</td>\n",
              "      <td>1280668672</td>\n",
              "      <td>477508</td>\n",
              "      <td>455307</td>\n",
              "      <td>19465</td>\n",
              "      <td>121604</td>\n",
              "      <td>265532</td>\n",
              "    </tr>\n",
              "  </tbody>\n",
              "</table>\n",
              "<p>5 rows × 44 columns</p>\n",
              "</div>"
            ],
            "text/plain": [
              "      cpu_times_user  cpu_times_nice  cpu_times_system  cpu_times_idle  \\\n",
              "s.no                                                                     \n",
              "1             316.83           10.83             28.97         7749.76   \n",
              "2             317.00           10.83             28.98         7751.53   \n",
              "3             317.10           10.83             29.00         7753.41   \n",
              "4             317.47           10.83             29.01         7755.01   \n",
              "5             317.49           10.83             29.02         7756.94   \n",
              "\n",
              "      cpu_times_iowait  cpu_times_irq  cpu_times_softirq  cpu_times_steal  \\\n",
              "s.no                                                                        \n",
              "1               193.11              0               0.54                0   \n",
              "2               193.14              0               0.54                0   \n",
              "3               193.14              0               0.54                0   \n",
              "4               193.14              0               0.54                0   \n",
              "5               193.19              0               0.54                0   \n",
              "\n",
              "      cpu_times_guest  cpu_times_guest_nice  ...  swap_sout  disk_read_count  \\\n",
              "s.no                                         ...                               \n",
              "1                   0                     0  ...  495980544            59506   \n",
              "2                   0                     0  ...  495980544            59512   \n",
              "3                   0                     0  ...  495980544            59513   \n",
              "4                   0                     0  ...  495980544            59513   \n",
              "5                   0                     0  ...  495980544            59513   \n",
              "\n",
              "      disk_write_count  disk_read_bytes  disk_write_bytes  disk_read_time  \\\n",
              "s.no                                                                        \n",
              "1                15120       2158542336        1280365568          477475   \n",
              "2                15120       2158571008        1280365568          477507   \n",
              "3                15161       2158575104        1280640000          477508   \n",
              "4                15163       2158575104        1280668672          477508   \n",
              "5                15163       2158575104        1280668672          477508   \n",
              "\n",
              "      disk_write_time  disk_read_merged_count  disk_write_merged_count  \\\n",
              "s.no                                                                     \n",
              "1              455251                   19464                   121598   \n",
              "2              455251                   19465                   121598   \n",
              "3              455258                   19465                   121599   \n",
              "4              455307                   19465                   121604   \n",
              "5              455307                   19465                   121604   \n",
              "\n",
              "      disk_busy_count  \n",
              "s.no                   \n",
              "1              265428  \n",
              "2              265472  \n",
              "3              265480  \n",
              "4              265532  \n",
              "5              265532  \n",
              "\n",
              "[5 rows x 44 columns]"
            ]
          },
          "execution_count": 263,
          "metadata": {},
          "output_type": "execute_result"
        }
      ],
      "source": [
        "dataframe_ster.head()"
      ]
    },
    {
      "cell_type": "markdown",
      "metadata": {
        "id": "uBLPpbaI5hme"
      },
      "source": [
        "Combining the Two data sets"
      ]
    },
    {
      "cell_type": "code",
      "execution_count": 264,
      "metadata": {
        "id": "0XuBlWAF5la_"
      },
      "outputs": [],
      "source": [
        "# replacing the 0 values with mean\n",
        "dataframe=dataframe_prog.drop(columns=['data_time'],axis=1)\n",
        "dataframe_prog['process_cpu_percent']=dataframe_prog['process_cpu_percent'].replace(0,dataframe_prog['process_cpu_percent'].mean())\n",
        "dataframe=pd.concat([dataframe_prog,dataframe_ster['cpu_times_user']],axis=1)\n"
      ]
    },
    {
      "cell_type": "code",
      "execution_count": 265,
      "metadata": {},
      "outputs": [
        {
          "data": {
            "text/html": [
              "<div>\n",
              "<style scoped>\n",
              "    .dataframe tbody tr th:only-of-type {\n",
              "        vertical-align: middle;\n",
              "    }\n",
              "\n",
              "    .dataframe tbody tr th {\n",
              "        vertical-align: top;\n",
              "    }\n",
              "\n",
              "    .dataframe thead th {\n",
              "        text-align: right;\n",
              "    }\n",
              "</style>\n",
              "<table border=\"1\" class=\"dataframe\">\n",
              "  <thead>\n",
              "    <tr style=\"text-align: right;\">\n",
              "      <th></th>\n",
              "      <th>process_cpu_percent</th>\n",
              "      <th>process_rss_percent</th>\n",
              "      <th>proces_vms_percent</th>\n",
              "      <th>process_data_percent</th>\n",
              "      <th>data_time</th>\n",
              "      <th>cpu_times_user</th>\n",
              "    </tr>\n",
              "  </thead>\n",
              "  <tbody>\n",
              "    <tr>\n",
              "      <th>1</th>\n",
              "      <td>42.747434</td>\n",
              "      <td>13.307912</td>\n",
              "      <td>26.576486</td>\n",
              "      <td>14.105149</td>\n",
              "      <td>1.665678e+09</td>\n",
              "      <td>316.83</td>\n",
              "    </tr>\n",
              "    <tr>\n",
              "      <th>2</th>\n",
              "      <td>42.747434</td>\n",
              "      <td>13.307912</td>\n",
              "      <td>26.576486</td>\n",
              "      <td>14.105149</td>\n",
              "      <td>1.665678e+09</td>\n",
              "      <td>317.00</td>\n",
              "    </tr>\n",
              "    <tr>\n",
              "      <th>3</th>\n",
              "      <td>42.747434</td>\n",
              "      <td>13.207294</td>\n",
              "      <td>26.576486</td>\n",
              "      <td>14.105149</td>\n",
              "      <td>1.665678e+09</td>\n",
              "      <td>317.10</td>\n",
              "    </tr>\n",
              "    <tr>\n",
              "      <th>4</th>\n",
              "      <td>42.747434</td>\n",
              "      <td>13.202747</td>\n",
              "      <td>26.576486</td>\n",
              "      <td>14.105149</td>\n",
              "      <td>1.665678e+09</td>\n",
              "      <td>317.47</td>\n",
              "    </tr>\n",
              "    <tr>\n",
              "      <th>5</th>\n",
              "      <td>61.900000</td>\n",
              "      <td>9.193432</td>\n",
              "      <td>22.451134</td>\n",
              "      <td>9.979797</td>\n",
              "      <td>1.665678e+09</td>\n",
              "      <td>317.49</td>\n",
              "    </tr>\n",
              "    <tr>\n",
              "      <th>...</th>\n",
              "      <td>...</td>\n",
              "      <td>...</td>\n",
              "      <td>...</td>\n",
              "      <td>...</td>\n",
              "      <td>...</td>\n",
              "      <td>...</td>\n",
              "    </tr>\n",
              "    <tr>\n",
              "      <th>5224</th>\n",
              "      <td>NaN</td>\n",
              "      <td>NaN</td>\n",
              "      <td>NaN</td>\n",
              "      <td>NaN</td>\n",
              "      <td>NaN</td>\n",
              "      <td>7802.88</td>\n",
              "    </tr>\n",
              "    <tr>\n",
              "      <th>5225</th>\n",
              "      <td>NaN</td>\n",
              "      <td>NaN</td>\n",
              "      <td>NaN</td>\n",
              "      <td>NaN</td>\n",
              "      <td>NaN</td>\n",
              "      <td>7804.87</td>\n",
              "    </tr>\n",
              "    <tr>\n",
              "      <th>5226</th>\n",
              "      <td>NaN</td>\n",
              "      <td>NaN</td>\n",
              "      <td>NaN</td>\n",
              "      <td>NaN</td>\n",
              "      <td>NaN</td>\n",
              "      <td>7806.85</td>\n",
              "    </tr>\n",
              "    <tr>\n",
              "      <th>5227</th>\n",
              "      <td>NaN</td>\n",
              "      <td>NaN</td>\n",
              "      <td>NaN</td>\n",
              "      <td>NaN</td>\n",
              "      <td>NaN</td>\n",
              "      <td>7808.82</td>\n",
              "    </tr>\n",
              "    <tr>\n",
              "      <th>5228</th>\n",
              "      <td>NaN</td>\n",
              "      <td>NaN</td>\n",
              "      <td>NaN</td>\n",
              "      <td>NaN</td>\n",
              "      <td>NaN</td>\n",
              "      <td>7810.10</td>\n",
              "    </tr>\n",
              "  </tbody>\n",
              "</table>\n",
              "<p>5228 rows × 6 columns</p>\n",
              "</div>"
            ],
            "text/plain": [
              "      process_cpu_percent  process_rss_percent  proces_vms_percent  \\\n",
              "1               42.747434            13.307912           26.576486   \n",
              "2               42.747434            13.307912           26.576486   \n",
              "3               42.747434            13.207294           26.576486   \n",
              "4               42.747434            13.202747           26.576486   \n",
              "5               61.900000             9.193432           22.451134   \n",
              "...                   ...                  ...                 ...   \n",
              "5224                  NaN                  NaN                 NaN   \n",
              "5225                  NaN                  NaN                 NaN   \n",
              "5226                  NaN                  NaN                 NaN   \n",
              "5227                  NaN                  NaN                 NaN   \n",
              "5228                  NaN                  NaN                 NaN   \n",
              "\n",
              "      process_data_percent     data_time  cpu_times_user  \n",
              "1                14.105149  1.665678e+09          316.83  \n",
              "2                14.105149  1.665678e+09          317.00  \n",
              "3                14.105149  1.665678e+09          317.10  \n",
              "4                14.105149  1.665678e+09          317.47  \n",
              "5                 9.979797  1.665678e+09          317.49  \n",
              "...                    ...           ...             ...  \n",
              "5224                   NaN           NaN         7802.88  \n",
              "5225                   NaN           NaN         7804.87  \n",
              "5226                   NaN           NaN         7806.85  \n",
              "5227                   NaN           NaN         7808.82  \n",
              "5228                   NaN           NaN         7810.10  \n",
              "\n",
              "[5228 rows x 6 columns]"
            ]
          },
          "execution_count": 265,
          "metadata": {},
          "output_type": "execute_result"
        }
      ],
      "source": [
        "dataframe"
      ]
    },
    {
      "cell_type": "code",
      "execution_count": 266,
      "metadata": {},
      "outputs": [],
      "source": [
        "dataframe = dataframe.dropna()"
      ]
    },
    {
      "cell_type": "code",
      "execution_count": 267,
      "metadata": {
        "colab": {
          "base_uri": "https://localhost:8080/",
          "height": 206
        },
        "id": "EvGtoZ3b6AGA",
        "outputId": "cb778e2c-51ca-46f8-c184-373a0b296163"
      },
      "outputs": [
        {
          "data": {
            "text/html": [
              "<div>\n",
              "<style scoped>\n",
              "    .dataframe tbody tr th:only-of-type {\n",
              "        vertical-align: middle;\n",
              "    }\n",
              "\n",
              "    .dataframe tbody tr th {\n",
              "        vertical-align: top;\n",
              "    }\n",
              "\n",
              "    .dataframe thead th {\n",
              "        text-align: right;\n",
              "    }\n",
              "</style>\n",
              "<table border=\"1\" class=\"dataframe\">\n",
              "  <thead>\n",
              "    <tr style=\"text-align: right;\">\n",
              "      <th></th>\n",
              "      <th>process_cpu_percent</th>\n",
              "      <th>process_rss_percent</th>\n",
              "      <th>proces_vms_percent</th>\n",
              "      <th>process_data_percent</th>\n",
              "      <th>data_time</th>\n",
              "      <th>cpu_times_user</th>\n",
              "    </tr>\n",
              "  </thead>\n",
              "  <tbody>\n",
              "    <tr>\n",
              "      <th>1</th>\n",
              "      <td>42.747434</td>\n",
              "      <td>13.307912</td>\n",
              "      <td>26.576486</td>\n",
              "      <td>14.105149</td>\n",
              "      <td>1.665678e+09</td>\n",
              "      <td>316.83</td>\n",
              "    </tr>\n",
              "    <tr>\n",
              "      <th>2</th>\n",
              "      <td>42.747434</td>\n",
              "      <td>13.307912</td>\n",
              "      <td>26.576486</td>\n",
              "      <td>14.105149</td>\n",
              "      <td>1.665678e+09</td>\n",
              "      <td>317.00</td>\n",
              "    </tr>\n",
              "    <tr>\n",
              "      <th>3</th>\n",
              "      <td>42.747434</td>\n",
              "      <td>13.207294</td>\n",
              "      <td>26.576486</td>\n",
              "      <td>14.105149</td>\n",
              "      <td>1.665678e+09</td>\n",
              "      <td>317.10</td>\n",
              "    </tr>\n",
              "    <tr>\n",
              "      <th>4</th>\n",
              "      <td>42.747434</td>\n",
              "      <td>13.202747</td>\n",
              "      <td>26.576486</td>\n",
              "      <td>14.105149</td>\n",
              "      <td>1.665678e+09</td>\n",
              "      <td>317.47</td>\n",
              "    </tr>\n",
              "    <tr>\n",
              "      <th>5</th>\n",
              "      <td>61.900000</td>\n",
              "      <td>9.193432</td>\n",
              "      <td>22.451134</td>\n",
              "      <td>9.979797</td>\n",
              "      <td>1.665678e+09</td>\n",
              "      <td>317.49</td>\n",
              "    </tr>\n",
              "    <tr>\n",
              "      <th>...</th>\n",
              "      <td>...</td>\n",
              "      <td>...</td>\n",
              "      <td>...</td>\n",
              "      <td>...</td>\n",
              "      <td>...</td>\n",
              "      <td>...</td>\n",
              "    </tr>\n",
              "    <tr>\n",
              "      <th>717</th>\n",
              "      <td>42.747434</td>\n",
              "      <td>9.828771</td>\n",
              "      <td>23.288698</td>\n",
              "      <td>10.817361</td>\n",
              "      <td>1.665680e+09</td>\n",
              "      <td>930.49</td>\n",
              "    </tr>\n",
              "    <tr>\n",
              "      <th>718</th>\n",
              "      <td>82.000000</td>\n",
              "      <td>16.246402</td>\n",
              "      <td>32.496758</td>\n",
              "      <td>20.025421</td>\n",
              "      <td>1.665680e+09</td>\n",
              "      <td>932.48</td>\n",
              "    </tr>\n",
              "    <tr>\n",
              "      <th>719</th>\n",
              "      <td>99.900000</td>\n",
              "      <td>16.767087</td>\n",
              "      <td>32.496758</td>\n",
              "      <td>20.025421</td>\n",
              "      <td>1.665680e+09</td>\n",
              "      <td>934.40</td>\n",
              "    </tr>\n",
              "    <tr>\n",
              "      <th>720</th>\n",
              "      <td>97.900000</td>\n",
              "      <td>17.532498</td>\n",
              "      <td>32.496758</td>\n",
              "      <td>20.025421</td>\n",
              "      <td>1.665680e+09</td>\n",
              "      <td>936.37</td>\n",
              "    </tr>\n",
              "    <tr>\n",
              "      <th>721</th>\n",
              "      <td>97.900000</td>\n",
              "      <td>18.469297</td>\n",
              "      <td>32.496758</td>\n",
              "      <td>20.025421</td>\n",
              "      <td>1.665680e+09</td>\n",
              "      <td>938.37</td>\n",
              "    </tr>\n",
              "  </tbody>\n",
              "</table>\n",
              "<p>721 rows × 6 columns</p>\n",
              "</div>"
            ],
            "text/plain": [
              "     process_cpu_percent  process_rss_percent  proces_vms_percent  \\\n",
              "1              42.747434            13.307912           26.576486   \n",
              "2              42.747434            13.307912           26.576486   \n",
              "3              42.747434            13.207294           26.576486   \n",
              "4              42.747434            13.202747           26.576486   \n",
              "5              61.900000             9.193432           22.451134   \n",
              "..                   ...                  ...                 ...   \n",
              "717            42.747434             9.828771           23.288698   \n",
              "718            82.000000            16.246402           32.496758   \n",
              "719            99.900000            16.767087           32.496758   \n",
              "720            97.900000            17.532498           32.496758   \n",
              "721            97.900000            18.469297           32.496758   \n",
              "\n",
              "     process_data_percent     data_time  cpu_times_user  \n",
              "1               14.105149  1.665678e+09          316.83  \n",
              "2               14.105149  1.665678e+09          317.00  \n",
              "3               14.105149  1.665678e+09          317.10  \n",
              "4               14.105149  1.665678e+09          317.47  \n",
              "5                9.979797  1.665678e+09          317.49  \n",
              "..                    ...           ...             ...  \n",
              "717             10.817361  1.665680e+09          930.49  \n",
              "718             20.025421  1.665680e+09          932.48  \n",
              "719             20.025421  1.665680e+09          934.40  \n",
              "720             20.025421  1.665680e+09          936.37  \n",
              "721             20.025421  1.665680e+09          938.37  \n",
              "\n",
              "[721 rows x 6 columns]"
            ]
          },
          "execution_count": 267,
          "metadata": {},
          "output_type": "execute_result"
        }
      ],
      "source": [
        "dataframe"
      ]
    },
    {
      "cell_type": "markdown",
      "metadata": {
        "id": "3FXGZQod6uS3"
      },
      "source": [
        "# **`Data analysis`**"
      ]
    },
    {
      "cell_type": "code",
      "execution_count": 268,
      "metadata": {
        "colab": {
          "base_uri": "https://localhost:8080/"
        },
        "id": "3A5R2bXu62w1",
        "outputId": "9f18c560-23c5-4f41-a2c5-f0da9bbd3dcc"
      },
      "outputs": [
        {
          "name": "stdout",
          "output_type": "stream",
          "text": [
            "<class 'tuple'> (721, 6)\n"
          ]
        }
      ],
      "source": [
        "print(type(dataframe.shape),dataframe.shape)\n"
      ]
    },
    {
      "cell_type": "code",
      "execution_count": 269,
      "metadata": {
        "colab": {
          "base_uri": "https://localhost:8080/"
        },
        "id": "MtGzIrOg7eXA",
        "outputId": "588b704f-bb77-4dca-c66f-6b918fdac788"
      },
      "outputs": [
        {
          "data": {
            "text/plain": [
              "<bound method DataFrame.info of      process_cpu_percent  process_rss_percent  proces_vms_percent  \\\n",
              "1              42.747434            13.307912           26.576486   \n",
              "2              42.747434            13.307912           26.576486   \n",
              "3              42.747434            13.207294           26.576486   \n",
              "4              42.747434            13.202747           26.576486   \n",
              "5              61.900000             9.193432           22.451134   \n",
              "..                   ...                  ...                 ...   \n",
              "717            42.747434             9.828771           23.288698   \n",
              "718            82.000000            16.246402           32.496758   \n",
              "719            99.900000            16.767087           32.496758   \n",
              "720            97.900000            17.532498           32.496758   \n",
              "721            97.900000            18.469297           32.496758   \n",
              "\n",
              "     process_data_percent     data_time  cpu_times_user  \n",
              "1               14.105149  1.665678e+09          316.83  \n",
              "2               14.105149  1.665678e+09          317.00  \n",
              "3               14.105149  1.665678e+09          317.10  \n",
              "4               14.105149  1.665678e+09          317.47  \n",
              "5                9.979797  1.665678e+09          317.49  \n",
              "..                    ...           ...             ...  \n",
              "717             10.817361  1.665680e+09          930.49  \n",
              "718             20.025421  1.665680e+09          932.48  \n",
              "719             20.025421  1.665680e+09          934.40  \n",
              "720             20.025421  1.665680e+09          936.37  \n",
              "721             20.025421  1.665680e+09          938.37  \n",
              "\n",
              "[721 rows x 6 columns]>"
            ]
          },
          "execution_count": 269,
          "metadata": {},
          "output_type": "execute_result"
        }
      ],
      "source": [
        "dataframe.info"
      ]
    },
    {
      "cell_type": "code",
      "execution_count": 270,
      "metadata": {
        "colab": {
          "base_uri": "https://localhost:8080/",
          "height": 364
        },
        "id": "x3m9F0hZ7m7_",
        "outputId": "3b3a877d-9639-4066-bb5b-a2426c822140"
      },
      "outputs": [
        {
          "data": {
            "text/html": [
              "<div>\n",
              "<style scoped>\n",
              "    .dataframe tbody tr th:only-of-type {\n",
              "        vertical-align: middle;\n",
              "    }\n",
              "\n",
              "    .dataframe tbody tr th {\n",
              "        vertical-align: top;\n",
              "    }\n",
              "\n",
              "    .dataframe thead th {\n",
              "        text-align: right;\n",
              "    }\n",
              "</style>\n",
              "<table border=\"1\" class=\"dataframe\">\n",
              "  <thead>\n",
              "    <tr style=\"text-align: right;\">\n",
              "      <th></th>\n",
              "      <th>process_cpu_percent</th>\n",
              "      <th>process_rss_percent</th>\n",
              "      <th>proces_vms_percent</th>\n",
              "      <th>process_data_percent</th>\n",
              "      <th>data_time</th>\n",
              "      <th>cpu_times_user</th>\n",
              "    </tr>\n",
              "  </thead>\n",
              "  <tbody>\n",
              "    <tr>\n",
              "      <th>count</th>\n",
              "      <td>721.000000</td>\n",
              "      <td>721.000000</td>\n",
              "      <td>721.000000</td>\n",
              "      <td>721.000000</td>\n",
              "      <td>7.210000e+02</td>\n",
              "      <td>721.000000</td>\n",
              "    </tr>\n",
              "    <tr>\n",
              "      <th>mean</th>\n",
              "      <td>63.261459</td>\n",
              "      <td>11.630178</td>\n",
              "      <td>25.344801</td>\n",
              "      <td>12.873464</td>\n",
              "      <td>1.665679e+09</td>\n",
              "      <td>573.517157</td>\n",
              "    </tr>\n",
              "    <tr>\n",
              "      <th>std</th>\n",
              "      <td>28.238128</td>\n",
              "      <td>2.501399</td>\n",
              "      <td>2.579191</td>\n",
              "      <td>2.579191</td>\n",
              "      <td>4.194949e+02</td>\n",
              "      <td>188.420197</td>\n",
              "    </tr>\n",
              "    <tr>\n",
              "      <th>min</th>\n",
              "      <td>1.000000</td>\n",
              "      <td>7.287417</td>\n",
              "      <td>21.005116</td>\n",
              "      <td>8.533779</td>\n",
              "      <td>1.665678e+09</td>\n",
              "      <td>316.830000</td>\n",
              "    </tr>\n",
              "    <tr>\n",
              "      <th>25%</th>\n",
              "      <td>42.747434</td>\n",
              "      <td>9.382018</td>\n",
              "      <td>23.029343</td>\n",
              "      <td>10.558007</td>\n",
              "      <td>1.665679e+09</td>\n",
              "      <td>396.890000</td>\n",
              "    </tr>\n",
              "    <tr>\n",
              "      <th>50%</th>\n",
              "      <td>42.747434</td>\n",
              "      <td>11.955989</td>\n",
              "      <td>26.099290</td>\n",
              "      <td>13.627953</td>\n",
              "      <td>1.665679e+09</td>\n",
              "      <td>547.920000</td>\n",
              "    </tr>\n",
              "    <tr>\n",
              "      <th>75%</th>\n",
              "      <td>97.900000</td>\n",
              "      <td>13.517451</td>\n",
              "      <td>27.130183</td>\n",
              "      <td>14.658847</td>\n",
              "      <td>1.665679e+09</td>\n",
              "      <td>733.210000</td>\n",
              "    </tr>\n",
              "    <tr>\n",
              "      <th>max</th>\n",
              "      <td>100.900000</td>\n",
              "      <td>21.860075</td>\n",
              "      <td>34.357703</td>\n",
              "      <td>21.886367</td>\n",
              "      <td>1.665680e+09</td>\n",
              "      <td>938.370000</td>\n",
              "    </tr>\n",
              "  </tbody>\n",
              "</table>\n",
              "</div>"
            ],
            "text/plain": [
              "       process_cpu_percent  process_rss_percent  proces_vms_percent  \\\n",
              "count           721.000000           721.000000          721.000000   \n",
              "mean             63.261459            11.630178           25.344801   \n",
              "std              28.238128             2.501399            2.579191   \n",
              "min               1.000000             7.287417           21.005116   \n",
              "25%              42.747434             9.382018           23.029343   \n",
              "50%              42.747434            11.955989           26.099290   \n",
              "75%              97.900000            13.517451           27.130183   \n",
              "max             100.900000            21.860075           34.357703   \n",
              "\n",
              "       process_data_percent     data_time  cpu_times_user  \n",
              "count            721.000000  7.210000e+02      721.000000  \n",
              "mean              12.873464  1.665679e+09      573.517157  \n",
              "std                2.579191  4.194949e+02      188.420197  \n",
              "min                8.533779  1.665678e+09      316.830000  \n",
              "25%               10.558007  1.665679e+09      396.890000  \n",
              "50%               13.627953  1.665679e+09      547.920000  \n",
              "75%               14.658847  1.665679e+09      733.210000  \n",
              "max               21.886367  1.665680e+09      938.370000  "
            ]
          },
          "execution_count": 270,
          "metadata": {},
          "output_type": "execute_result"
        }
      ],
      "source": [
        "dataframe.describe()"
      ]
    },
    {
      "cell_type": "code",
      "execution_count": 271,
      "metadata": {},
      "outputs": [],
      "source": [
        "#STANDARD SCALLER\n",
        "col_names = ['S.no','process_cpu_percent','process_rss_percent','proces_vms_percent','process_data_percent','cpu_times_user']\n",
        "features = dataframe[col_names]\n",
        "scaler = StandardScaler().fit(features.values)\n",
        "features = scaler.transform(features.values)\n",
        "dataframe_scaled = pd.DataFrame(features, columns = col_names)"
      ]
    },
    {
      "cell_type": "code",
      "execution_count": 272,
      "metadata": {},
      "outputs": [
        {
          "data": {
            "text/html": [
              "<div>\n",
              "<style scoped>\n",
              "    .dataframe tbody tr th:only-of-type {\n",
              "        vertical-align: middle;\n",
              "    }\n",
              "\n",
              "    .dataframe tbody tr th {\n",
              "        vertical-align: top;\n",
              "    }\n",
              "\n",
              "    .dataframe thead th {\n",
              "        text-align: right;\n",
              "    }\n",
              "</style>\n",
              "<table border=\"1\" class=\"dataframe\">\n",
              "  <thead>\n",
              "    <tr style=\"text-align: right;\">\n",
              "      <th></th>\n",
              "      <th>process_cpu_percent</th>\n",
              "      <th>process_rss_percent</th>\n",
              "      <th>proces_vms_percent</th>\n",
              "      <th>process_data_percent</th>\n",
              "      <th>cpu_times_user</th>\n",
              "    </tr>\n",
              "  </thead>\n",
              "  <tbody>\n",
              "    <tr>\n",
              "      <th>0</th>\n",
              "      <td>-0.726970</td>\n",
              "      <td>0.671184</td>\n",
              "      <td>0.477879</td>\n",
              "      <td>0.477879</td>\n",
              "      <td>-1.363258</td>\n",
              "    </tr>\n",
              "    <tr>\n",
              "      <th>1</th>\n",
              "      <td>-0.726970</td>\n",
              "      <td>0.671184</td>\n",
              "      <td>0.477879</td>\n",
              "      <td>0.477879</td>\n",
              "      <td>-1.362355</td>\n",
              "    </tr>\n",
              "    <tr>\n",
              "      <th>2</th>\n",
              "      <td>-0.726970</td>\n",
              "      <td>0.630931</td>\n",
              "      <td>0.477879</td>\n",
              "      <td>0.477879</td>\n",
              "      <td>-1.361824</td>\n",
              "    </tr>\n",
              "    <tr>\n",
              "      <th>3</th>\n",
              "      <td>-0.726970</td>\n",
              "      <td>0.629112</td>\n",
              "      <td>0.477879</td>\n",
              "      <td>0.477879</td>\n",
              "      <td>-1.359859</td>\n",
              "    </tr>\n",
              "    <tr>\n",
              "      <th>4</th>\n",
              "      <td>-0.048247</td>\n",
              "      <td>-0.974829</td>\n",
              "      <td>-1.122707</td>\n",
              "      <td>-1.122707</td>\n",
              "      <td>-1.359753</td>\n",
              "    </tr>\n",
              "    <tr>\n",
              "      <th>...</th>\n",
              "      <td>...</td>\n",
              "      <td>...</td>\n",
              "      <td>...</td>\n",
              "      <td>...</td>\n",
              "      <td>...</td>\n",
              "    </tr>\n",
              "    <tr>\n",
              "      <th>716</th>\n",
              "      <td>-0.726970</td>\n",
              "      <td>-0.720660</td>\n",
              "      <td>-0.797742</td>\n",
              "      <td>-0.797742</td>\n",
              "      <td>1.895872</td>\n",
              "    </tr>\n",
              "    <tr>\n",
              "      <th>717</th>\n",
              "      <td>0.664051</td>\n",
              "      <td>1.846738</td>\n",
              "      <td>2.774871</td>\n",
              "      <td>2.774871</td>\n",
              "      <td>1.906441</td>\n",
              "    </tr>\n",
              "    <tr>\n",
              "      <th>718</th>\n",
              "      <td>1.298385</td>\n",
              "      <td>2.055040</td>\n",
              "      <td>2.774871</td>\n",
              "      <td>2.774871</td>\n",
              "      <td>1.916638</td>\n",
              "    </tr>\n",
              "    <tr>\n",
              "      <th>719</th>\n",
              "      <td>1.227510</td>\n",
              "      <td>2.361246</td>\n",
              "      <td>2.774871</td>\n",
              "      <td>2.774871</td>\n",
              "      <td>1.927101</td>\n",
              "    </tr>\n",
              "    <tr>\n",
              "      <th>720</th>\n",
              "      <td>1.227510</td>\n",
              "      <td>2.736015</td>\n",
              "      <td>2.774871</td>\n",
              "      <td>2.774871</td>\n",
              "      <td>1.937723</td>\n",
              "    </tr>\n",
              "  </tbody>\n",
              "</table>\n",
              "<p>721 rows × 5 columns</p>\n",
              "</div>"
            ],
            "text/plain": [
              "     process_cpu_percent  process_rss_percent  proces_vms_percent  \\\n",
              "0              -0.726970             0.671184            0.477879   \n",
              "1              -0.726970             0.671184            0.477879   \n",
              "2              -0.726970             0.630931            0.477879   \n",
              "3              -0.726970             0.629112            0.477879   \n",
              "4              -0.048247            -0.974829           -1.122707   \n",
              "..                   ...                  ...                 ...   \n",
              "716            -0.726970            -0.720660           -0.797742   \n",
              "717             0.664051             1.846738            2.774871   \n",
              "718             1.298385             2.055040            2.774871   \n",
              "719             1.227510             2.361246            2.774871   \n",
              "720             1.227510             2.736015            2.774871   \n",
              "\n",
              "     process_data_percent  cpu_times_user  \n",
              "0                0.477879       -1.363258  \n",
              "1                0.477879       -1.362355  \n",
              "2                0.477879       -1.361824  \n",
              "3                0.477879       -1.359859  \n",
              "4               -1.122707       -1.359753  \n",
              "..                    ...             ...  \n",
              "716             -0.797742        1.895872  \n",
              "717              2.774871        1.906441  \n",
              "718              2.774871        1.916638  \n",
              "719              2.774871        1.927101  \n",
              "720              2.774871        1.937723  \n",
              "\n",
              "[721 rows x 5 columns]"
            ]
          },
          "execution_count": 272,
          "metadata": {},
          "output_type": "execute_result"
        }
      ],
      "source": [
        "dataframe_scaled"
      ]
    },
    {
      "cell_type": "code",
      "execution_count": 273,
      "metadata": {},
      "outputs": [
        {
          "data": {
            "text/plain": [
              "array([  1,   2,   3,   4,   5,   6,   7,   8,   9,  10,  11,  12,  13,\n",
              "        14,  15,  16,  17,  18,  19,  20,  21,  22,  23,  24,  25,  26,\n",
              "        27,  28,  29,  30,  31,  32,  33,  34,  35,  36,  37,  38,  39,\n",
              "        40,  41,  42,  43,  44,  45,  46,  47,  48,  49,  50,  51,  52,\n",
              "        53,  54,  55,  56,  57,  58,  59,  60,  61,  62,  63,  64,  65,\n",
              "        66,  67,  68,  69,  70,  71,  72,  73,  74,  75,  76,  77,  78,\n",
              "        79,  80,  81,  82,  83,  84,  85,  86,  87,  88,  89,  90,  91,\n",
              "        92,  93,  94,  95,  96,  97,  98,  99, 100, 101, 102, 103, 104,\n",
              "       105, 106, 107, 108, 109, 110, 111, 112, 113, 114, 115, 116, 117,\n",
              "       118, 119, 120, 121, 122, 123, 124, 125, 126, 127, 128, 129, 130,\n",
              "       131, 132, 133, 134, 135, 136, 137, 138, 139, 140, 141, 142, 143,\n",
              "       144, 145, 146, 147, 148, 149, 150, 151, 152, 153, 154, 155, 156,\n",
              "       157, 158, 159, 160, 161, 162, 163, 164, 165, 166, 167, 168, 169,\n",
              "       170, 171, 172, 173, 174, 175, 176, 177, 178, 179, 180, 181, 182,\n",
              "       183, 184, 185, 186, 187, 188, 189, 190, 191, 192, 193, 194, 195,\n",
              "       196, 197, 198, 199, 200, 201, 202, 203, 204, 205, 206, 207, 208,\n",
              "       209, 210, 211, 212, 213, 214, 215, 216, 217, 218, 219, 220, 221,\n",
              "       222, 223, 224, 225, 226, 227, 228, 229, 230, 231, 232, 233, 234,\n",
              "       235, 236, 237, 238, 239, 240, 241, 242, 243, 244, 245, 246, 247,\n",
              "       248, 249, 250, 251, 252, 253, 254, 255, 256, 257, 258, 259, 260,\n",
              "       261, 262, 263, 264, 265, 266, 267, 268, 269, 270, 271, 272, 273,\n",
              "       274, 275, 276, 277, 278, 279, 280, 281, 282, 283, 284, 285, 286,\n",
              "       287, 288, 289, 290, 291, 292, 293, 294, 295, 296, 297, 298, 299,\n",
              "       300, 301, 302, 303, 304, 305, 306, 307, 308, 309, 310, 311, 312,\n",
              "       313, 314, 315, 316, 317, 318, 319, 320, 321, 322, 323, 324, 325,\n",
              "       326, 327, 328, 329, 330, 331, 332, 333, 334, 335, 336, 337, 338,\n",
              "       339, 340, 341, 342, 343, 344, 345, 346, 347, 348, 349, 350, 351,\n",
              "       352, 353, 354, 355, 356, 357, 358, 359, 360, 361, 362, 363, 364,\n",
              "       365, 366, 367, 368, 369, 370, 371, 372, 373, 374, 375, 376, 377,\n",
              "       378, 379, 380, 381, 382, 383, 384, 385, 386, 387, 388, 389, 390,\n",
              "       391, 392, 393, 394, 395, 396, 397, 398, 399, 400, 401, 402, 403,\n",
              "       404, 405, 406, 407, 408, 409, 410, 411, 412, 413, 414, 415, 416,\n",
              "       417, 418, 419, 420, 421, 422, 423, 424, 425, 426, 427, 428, 429,\n",
              "       430, 431, 432, 433, 434, 435, 436, 437, 438, 439, 440, 441, 442,\n",
              "       443, 444, 445, 446, 447, 448, 449, 450, 451, 452, 453, 454, 455,\n",
              "       456, 457, 458, 459, 460, 461, 462, 463, 464, 465, 466, 467, 468,\n",
              "       469, 470, 471, 472, 473, 474, 475, 476, 477, 478, 479, 480, 481,\n",
              "       482, 483, 484, 485, 486, 487, 488, 489, 490, 491, 492, 493, 494,\n",
              "       495, 496, 497, 498, 499, 500, 501, 502, 503, 504, 505, 506, 507,\n",
              "       508, 509, 510, 511, 512, 513, 514, 515, 516, 517, 518, 519, 520,\n",
              "       521, 522, 523, 524, 525, 526, 527, 528, 529, 530, 531, 532, 533,\n",
              "       534, 535, 536, 537, 538, 539, 540, 541, 542, 543, 544, 545, 546,\n",
              "       547, 548, 549, 550, 551, 552, 553, 554, 555, 556, 557, 558, 559,\n",
              "       560, 561, 562, 563, 564, 565, 566, 567, 568, 569, 570, 571, 572,\n",
              "       573, 574, 575, 576, 577, 578, 579, 580, 581, 582, 583, 584, 585,\n",
              "       586, 587, 588, 589, 590, 591, 592, 593, 594, 595, 596, 597, 598,\n",
              "       599, 600, 601, 602, 603, 604, 605, 606, 607, 608, 609, 610, 611,\n",
              "       612, 613, 614, 615, 616, 617, 618, 619, 620, 621, 622, 623, 624,\n",
              "       625, 626, 627, 628, 629, 630, 631, 632, 633, 634, 635, 636, 637,\n",
              "       638, 639, 640, 641, 642, 643, 644, 645, 646, 647, 648, 649, 650,\n",
              "       651, 652, 653, 654, 655, 656, 657, 658, 659, 660, 661, 662, 663,\n",
              "       664, 665, 666, 667, 668, 669, 670, 671, 672, 673, 674, 675, 676,\n",
              "       677, 678, 679, 680, 681, 682, 683, 684, 685, 686, 687, 688, 689,\n",
              "       690, 691, 692, 693, 694, 695, 696, 697, 698, 699, 700, 701, 702,\n",
              "       703, 704, 705, 706, 707, 708, 709, 710, 711, 712, 713, 714, 715,\n",
              "       716, 717, 718, 719, 720, 721], dtype=int64)"
            ]
          },
          "execution_count": 273,
          "metadata": {},
          "output_type": "execute_result"
        }
      ],
      "source": [
        "dataframe.index.values\n"
      ]
    },
    {
      "cell_type": "code",
      "execution_count": 274,
      "metadata": {},
      "outputs": [
        {
          "data": {
            "text/html": [
              "<div>\n",
              "<style scoped>\n",
              "    .dataframe tbody tr th:only-of-type {\n",
              "        vertical-align: middle;\n",
              "    }\n",
              "\n",
              "    .dataframe tbody tr th {\n",
              "        vertical-align: top;\n",
              "    }\n",
              "\n",
              "    .dataframe thead th {\n",
              "        text-align: right;\n",
              "    }\n",
              "</style>\n",
              "<table border=\"1\" class=\"dataframe\">\n",
              "  <thead>\n",
              "    <tr style=\"text-align: right;\">\n",
              "      <th></th>\n",
              "      <th>process_cpu_percent</th>\n",
              "      <th>process_rss_percent</th>\n",
              "      <th>proces_vms_percent</th>\n",
              "      <th>process_data_percent</th>\n",
              "      <th>data_time</th>\n",
              "      <th>cpu_times_user</th>\n",
              "    </tr>\n",
              "  </thead>\n",
              "  <tbody>\n",
              "    <tr>\n",
              "      <th>1</th>\n",
              "      <td>42.747434</td>\n",
              "      <td>13.307912</td>\n",
              "      <td>26.576486</td>\n",
              "      <td>14.105149</td>\n",
              "      <td>1.665678e+09</td>\n",
              "      <td>316.83</td>\n",
              "    </tr>\n",
              "    <tr>\n",
              "      <th>2</th>\n",
              "      <td>42.747434</td>\n",
              "      <td>13.307912</td>\n",
              "      <td>26.576486</td>\n",
              "      <td>14.105149</td>\n",
              "      <td>1.665678e+09</td>\n",
              "      <td>317.00</td>\n",
              "    </tr>\n",
              "    <tr>\n",
              "      <th>3</th>\n",
              "      <td>42.747434</td>\n",
              "      <td>13.207294</td>\n",
              "      <td>26.576486</td>\n",
              "      <td>14.105149</td>\n",
              "      <td>1.665678e+09</td>\n",
              "      <td>317.10</td>\n",
              "    </tr>\n",
              "    <tr>\n",
              "      <th>4</th>\n",
              "      <td>42.747434</td>\n",
              "      <td>13.202747</td>\n",
              "      <td>26.576486</td>\n",
              "      <td>14.105149</td>\n",
              "      <td>1.665678e+09</td>\n",
              "      <td>317.47</td>\n",
              "    </tr>\n",
              "    <tr>\n",
              "      <th>5</th>\n",
              "      <td>61.900000</td>\n",
              "      <td>9.193432</td>\n",
              "      <td>22.451134</td>\n",
              "      <td>9.979797</td>\n",
              "      <td>1.665678e+09</td>\n",
              "      <td>317.49</td>\n",
              "    </tr>\n",
              "    <tr>\n",
              "      <th>...</th>\n",
              "      <td>...</td>\n",
              "      <td>...</td>\n",
              "      <td>...</td>\n",
              "      <td>...</td>\n",
              "      <td>...</td>\n",
              "      <td>...</td>\n",
              "    </tr>\n",
              "    <tr>\n",
              "      <th>717</th>\n",
              "      <td>42.747434</td>\n",
              "      <td>9.828771</td>\n",
              "      <td>23.288698</td>\n",
              "      <td>10.817361</td>\n",
              "      <td>1.665680e+09</td>\n",
              "      <td>930.49</td>\n",
              "    </tr>\n",
              "    <tr>\n",
              "      <th>718</th>\n",
              "      <td>82.000000</td>\n",
              "      <td>16.246402</td>\n",
              "      <td>32.496758</td>\n",
              "      <td>20.025421</td>\n",
              "      <td>1.665680e+09</td>\n",
              "      <td>932.48</td>\n",
              "    </tr>\n",
              "    <tr>\n",
              "      <th>719</th>\n",
              "      <td>99.900000</td>\n",
              "      <td>16.767087</td>\n",
              "      <td>32.496758</td>\n",
              "      <td>20.025421</td>\n",
              "      <td>1.665680e+09</td>\n",
              "      <td>934.40</td>\n",
              "    </tr>\n",
              "    <tr>\n",
              "      <th>720</th>\n",
              "      <td>97.900000</td>\n",
              "      <td>17.532498</td>\n",
              "      <td>32.496758</td>\n",
              "      <td>20.025421</td>\n",
              "      <td>1.665680e+09</td>\n",
              "      <td>936.37</td>\n",
              "    </tr>\n",
              "    <tr>\n",
              "      <th>721</th>\n",
              "      <td>97.900000</td>\n",
              "      <td>18.469297</td>\n",
              "      <td>32.496758</td>\n",
              "      <td>20.025421</td>\n",
              "      <td>1.665680e+09</td>\n",
              "      <td>938.37</td>\n",
              "    </tr>\n",
              "  </tbody>\n",
              "</table>\n",
              "<p>721 rows × 6 columns</p>\n",
              "</div>"
            ],
            "text/plain": [
              "     process_cpu_percent  process_rss_percent  proces_vms_percent  \\\n",
              "1              42.747434            13.307912           26.576486   \n",
              "2              42.747434            13.307912           26.576486   \n",
              "3              42.747434            13.207294           26.576486   \n",
              "4              42.747434            13.202747           26.576486   \n",
              "5              61.900000             9.193432           22.451134   \n",
              "..                   ...                  ...                 ...   \n",
              "717            42.747434             9.828771           23.288698   \n",
              "718            82.000000            16.246402           32.496758   \n",
              "719            99.900000            16.767087           32.496758   \n",
              "720            97.900000            17.532498           32.496758   \n",
              "721            97.900000            18.469297           32.496758   \n",
              "\n",
              "     process_data_percent     data_time  cpu_times_user  \n",
              "1               14.105149  1.665678e+09          316.83  \n",
              "2               14.105149  1.665678e+09          317.00  \n",
              "3               14.105149  1.665678e+09          317.10  \n",
              "4               14.105149  1.665678e+09          317.47  \n",
              "5                9.979797  1.665678e+09          317.49  \n",
              "..                    ...           ...             ...  \n",
              "717             10.817361  1.665680e+09          930.49  \n",
              "718             20.025421  1.665680e+09          932.48  \n",
              "719             20.025421  1.665680e+09          934.40  \n",
              "720             20.025421  1.665680e+09          936.37  \n",
              "721             20.025421  1.665680e+09          938.37  \n",
              "\n",
              "[721 rows x 6 columns]"
            ]
          },
          "execution_count": 274,
          "metadata": {},
          "output_type": "execute_result"
        }
      ],
      "source": [
        "dataframe"
      ]
    },
    {
      "cell_type": "code",
      "execution_count": 275,
      "metadata": {
        "colab": {
          "base_uri": "https://localhost:8080/"
        },
        "id": "2X2WnvWgBX9a",
        "outputId": "9b939cd6-ad5e-4896-ca3b-a238815f603c"
      },
      "outputs": [
        {
          "data": {
            "text/plain": [
              "Index(['process_cpu_percent', 'process_rss_percent', 'proces_vms_percent',\n",
              "       'process_data_percent', 'data_time', 'cpu_times_user'],\n",
              "      dtype='object')"
            ]
          },
          "execution_count": 275,
          "metadata": {},
          "output_type": "execute_result"
        }
      ],
      "source": [
        "dataframe.columns"
      ]
    },
    {
      "cell_type": "code",
      "execution_count": 276,
      "metadata": {
        "colab": {
          "base_uri": "https://localhost:8080/",
          "height": 659
        },
        "id": "uujFSuOmA9Ki",
        "outputId": "32a47845-c796-42dc-e21f-0c8b19651af5"
      },
      "outputs": [
        {
          "ename": "KeyError",
          "evalue": "'S.no'",
          "output_type": "error",
          "traceback": [
            "\u001b[1;31m---------------------------------------------------------------------------\u001b[0m",
            "\u001b[1;31mKeyError\u001b[0m                                  Traceback (most recent call last)",
            "File \u001b[1;32mc:\\Users\\deeks\\anaconda3\\lib\\site-packages\\pandas\\core\\indexes\\base.py:3621\u001b[0m, in \u001b[0;36mIndex.get_loc\u001b[1;34m(self, key, method, tolerance)\u001b[0m\n\u001b[0;32m   3620\u001b[0m \u001b[39mtry\u001b[39;00m:\n\u001b[1;32m-> 3621\u001b[0m     \u001b[39mreturn\u001b[39;00m \u001b[39mself\u001b[39;49m\u001b[39m.\u001b[39;49m_engine\u001b[39m.\u001b[39;49mget_loc(casted_key)\n\u001b[0;32m   3622\u001b[0m \u001b[39mexcept\u001b[39;00m \u001b[39mKeyError\u001b[39;00m \u001b[39mas\u001b[39;00m err:\n",
            "File \u001b[1;32mc:\\Users\\deeks\\anaconda3\\lib\\site-packages\\pandas\\_libs\\index.pyx:136\u001b[0m, in \u001b[0;36mpandas._libs.index.IndexEngine.get_loc\u001b[1;34m()\u001b[0m\n",
            "File \u001b[1;32mc:\\Users\\deeks\\anaconda3\\lib\\site-packages\\pandas\\_libs\\index.pyx:163\u001b[0m, in \u001b[0;36mpandas._libs.index.IndexEngine.get_loc\u001b[1;34m()\u001b[0m\n",
            "File \u001b[1;32mpandas\\_libs\\hashtable_class_helper.pxi:5198\u001b[0m, in \u001b[0;36mpandas._libs.hashtable.PyObjectHashTable.get_item\u001b[1;34m()\u001b[0m\n",
            "File \u001b[1;32mpandas\\_libs\\hashtable_class_helper.pxi:5206\u001b[0m, in \u001b[0;36mpandas._libs.hashtable.PyObjectHashTable.get_item\u001b[1;34m()\u001b[0m\n",
            "\u001b[1;31mKeyError\u001b[0m: 'S.no'",
            "\nThe above exception was the direct cause of the following exception:\n",
            "\u001b[1;31mKeyError\u001b[0m                                  Traceback (most recent call last)",
            "Cell \u001b[1;32mIn [276], line 2\u001b[0m\n\u001b[0;32m      1\u001b[0m fig, axes \u001b[39m=\u001b[39m plt\u001b[39m.\u001b[39msubplots(\u001b[39m2\u001b[39m, \u001b[39m2\u001b[39m, figsize\u001b[39m=\u001b[39m(\u001b[39m16\u001b[39m,\u001b[39m9\u001b[39m))\n\u001b[1;32m----> 2\u001b[0m sns\u001b[39m.\u001b[39mdistplot(x\u001b[39m=\u001b[39mdataframe[\u001b[39m'\u001b[39;49m\u001b[39mS.no\u001b[39;49m\u001b[39m'\u001b[39;49m],y\u001b[39m=\u001b[39mdataframe[\u001b[39m'\u001b[39m\u001b[39mprocess_cpu_percent\u001b[39m\u001b[39m'\u001b[39m], ax\u001b[39m=\u001b[39maxes[\u001b[39m0\u001b[39m, \u001b[39m0\u001b[39m])\n\u001b[0;32m      3\u001b[0m sns\u001b[39m.\u001b[39mdistplot(x\u001b[39m=\u001b[39mdataframe[\u001b[39m'\u001b[39m\u001b[39mS.no\u001b[39m\u001b[39m'\u001b[39m],y\u001b[39m=\u001b[39mdataframe[\u001b[39m'\u001b[39m\u001b[39mprocess_rss_percent\u001b[39m\u001b[39m'\u001b[39m],ax\u001b[39m=\u001b[39maxes[\u001b[39m0\u001b[39m, \u001b[39m1\u001b[39m])\n\u001b[0;32m      4\u001b[0m sns\u001b[39m.\u001b[39mdistplot(x\u001b[39m=\u001b[39mdataframe[\u001b[39m'\u001b[39m\u001b[39mS.no\u001b[39m\u001b[39m'\u001b[39m],y\u001b[39m=\u001b[39mdataframe[\u001b[39m'\u001b[39m\u001b[39mproces_vms_percent\u001b[39m\u001b[39m'\u001b[39m],ax\u001b[39m=\u001b[39maxes[\u001b[39m1\u001b[39m, \u001b[39m0\u001b[39m])\n",
            "File \u001b[1;32mc:\\Users\\deeks\\anaconda3\\lib\\site-packages\\pandas\\core\\frame.py:3505\u001b[0m, in \u001b[0;36mDataFrame.__getitem__\u001b[1;34m(self, key)\u001b[0m\n\u001b[0;32m   3503\u001b[0m \u001b[39mif\u001b[39;00m \u001b[39mself\u001b[39m\u001b[39m.\u001b[39mcolumns\u001b[39m.\u001b[39mnlevels \u001b[39m>\u001b[39m \u001b[39m1\u001b[39m:\n\u001b[0;32m   3504\u001b[0m     \u001b[39mreturn\u001b[39;00m \u001b[39mself\u001b[39m\u001b[39m.\u001b[39m_getitem_multilevel(key)\n\u001b[1;32m-> 3505\u001b[0m indexer \u001b[39m=\u001b[39m \u001b[39mself\u001b[39;49m\u001b[39m.\u001b[39;49mcolumns\u001b[39m.\u001b[39;49mget_loc(key)\n\u001b[0;32m   3506\u001b[0m \u001b[39mif\u001b[39;00m is_integer(indexer):\n\u001b[0;32m   3507\u001b[0m     indexer \u001b[39m=\u001b[39m [indexer]\n",
            "File \u001b[1;32mc:\\Users\\deeks\\anaconda3\\lib\\site-packages\\pandas\\core\\indexes\\base.py:3623\u001b[0m, in \u001b[0;36mIndex.get_loc\u001b[1;34m(self, key, method, tolerance)\u001b[0m\n\u001b[0;32m   3621\u001b[0m     \u001b[39mreturn\u001b[39;00m \u001b[39mself\u001b[39m\u001b[39m.\u001b[39m_engine\u001b[39m.\u001b[39mget_loc(casted_key)\n\u001b[0;32m   3622\u001b[0m \u001b[39mexcept\u001b[39;00m \u001b[39mKeyError\u001b[39;00m \u001b[39mas\u001b[39;00m err:\n\u001b[1;32m-> 3623\u001b[0m     \u001b[39mraise\u001b[39;00m \u001b[39mKeyError\u001b[39;00m(key) \u001b[39mfrom\u001b[39;00m \u001b[39merr\u001b[39;00m\n\u001b[0;32m   3624\u001b[0m \u001b[39mexcept\u001b[39;00m \u001b[39mTypeError\u001b[39;00m:\n\u001b[0;32m   3625\u001b[0m     \u001b[39m# If we have a listlike key, _check_indexing_error will raise\u001b[39;00m\n\u001b[0;32m   3626\u001b[0m     \u001b[39m#  InvalidIndexError. Otherwise we fall through and re-raise\u001b[39;00m\n\u001b[0;32m   3627\u001b[0m     \u001b[39m#  the TypeError.\u001b[39;00m\n\u001b[0;32m   3628\u001b[0m     \u001b[39mself\u001b[39m\u001b[39m.\u001b[39m_check_indexing_error(key)\n",
            "\u001b[1;31mKeyError\u001b[0m: 'S.no'"
          ]
        },
        {
          "data": {
            "image/png": "[encoded data removed]",
            "text/plain": [
              "<Figure size 1600x900 with 4 Axes>"
            ]
          },
          "metadata": {},
          "output_type": "display_data"
        }
      ],
      "source": [
        "fig, axes = plt.subplots(2, 2, figsize=(16,9))\n",
        "sns.distplot(x=dataframe['S.no'],y=dataframe['process_cpu_percent'], ax=axes[0, 0])\n",
        "sns.distplot(x=dataframe['S.no'],y=dataframe['process_rss_percent'],ax=axes[0, 1])\n",
        "sns.distplot(x=dataframe['S.no'],y=dataframe['proces_vms_percent'],ax=axes[1, 0])\n",
        "sns.distplot(x=dataframe['S.no'],y=dataframe['process_data_percent'],ax=axes[1, 1])\n",
        "\n",
        "plt.show()"
      ]
    },
    {
      "cell_type": "markdown",
      "metadata": {
        "id": "lNhRls8DTvBZ"
      },
      "source": [
        "# **DATA CORELATION**"
      ]
    },
    {
      "cell_type": "markdown",
      "metadata": {
        "id": "jHooSr95T0Vn"
      },
      "source": [
        "The data points are said to be positively co related if they are directly proportional to each other.\n",
        "The data points are said to be negitively co related if they are in\n",
        "directly proportional to each other."
      ]
    },
    {
      "cell_type": "code",
      "execution_count": null,
      "metadata": {
        "id": "8u2bcVMxUl-P"
      },
      "outputs": [],
      "source": [
        "relation=dataframe_scaled.corr()"
      ]
    },
    {
      "cell_type": "code",
      "execution_count": null,
      "metadata": {
        "colab": {
          "base_uri": "https://localhost:8080/",
          "height": 599
        },
        "id": "hKN-lJg9PeE1",
        "outputId": "a88b2711-10eb-43ed-868b-9541cb7f95c8"
      },
      "outputs": [
        {
          "data": {
            "text/plain": [
              "<AxesSubplot:>"
            ]
          },
          "execution_count": 177,
          "metadata": {},
          "output_type": "execute_result"
        },
        {
          "data": {
            "image/png": "[encoded data removed]",
            "text/plain": [
              "<Figure size 1000x1000 with 2 Axes>"
            ]
          },
          "metadata": {},
          "output_type": "display_data"
        }
      ],
      "source": [
        "plt.figure(figsize=(10,10))\n",
        "sns.heatmap(relation, cbar=True, square=True, fmt='.1f', annot=True, annot_kws={'size':8}, cmap='Blues')"
      ]
    },
    {
      "cell_type": "markdown",
      "metadata": {
        "id": "e8MxHzxNS--L"
      },
      "source": [
        "# **Adjusting the axis**"
      ]
    },
    {
      "cell_type": "code",
      "execution_count": null,
      "metadata": {
        "id": "7HCe7s0VTC3h"
      },
      "outputs": [],
      "source": [
        "X = dataframe_scaled.drop(columns=['process_cpu_percent','process_rss_percent','proces_vms_percent','process_data_percent'], axis=1)\n",
        "Y = dataframe_scaled['process_cpu_percent']"
      ]
    },
    {
      "cell_type": "code",
      "execution_count": null,
      "metadata": {
        "colab": {
          "base_uri": "https://localhost:8080/"
        },
        "id": "lNYaW_NYTctB",
        "outputId": "072ad46b-dc42-4986-82db-a04183f4062d"
      },
      "outputs": [
        {
          "data": {
            "text/html": [
              "<div>\n",
              "<style scoped>\n",
              "    .dataframe tbody tr th:only-of-type {\n",
              "        vertical-align: middle;\n",
              "    }\n",
              "\n",
              "    .dataframe tbody tr th {\n",
              "        vertical-align: top;\n",
              "    }\n",
              "\n",
              "    .dataframe thead th {\n",
              "        text-align: right;\n",
              "    }\n",
              "</style>\n",
              "<table border=\"1\" class=\"dataframe\">\n",
              "  <thead>\n",
              "    <tr style=\"text-align: right;\">\n",
              "      <th></th>\n",
              "    </tr>\n",
              "  </thead>\n",
              "  <tbody>\n",
              "    <tr>\n",
              "      <th>0</th>\n",
              "    </tr>\n",
              "    <tr>\n",
              "      <th>1</th>\n",
              "    </tr>\n",
              "    <tr>\n",
              "      <th>2</th>\n",
              "    </tr>\n",
              "    <tr>\n",
              "      <th>3</th>\n",
              "    </tr>\n",
              "    <tr>\n",
              "      <th>4</th>\n",
              "    </tr>\n",
              "    <tr>\n",
              "      <th>...</th>\n",
              "    </tr>\n",
              "    <tr>\n",
              "      <th>716</th>\n",
              "    </tr>\n",
              "    <tr>\n",
              "      <th>717</th>\n",
              "    </tr>\n",
              "    <tr>\n",
              "      <th>718</th>\n",
              "    </tr>\n",
              "    <tr>\n",
              "      <th>719</th>\n",
              "    </tr>\n",
              "    <tr>\n",
              "      <th>720</th>\n",
              "    </tr>\n",
              "  </tbody>\n",
              "</table>\n",
              "<p>721 rows × 0 columns</p>\n",
              "</div>"
            ],
            "text/plain": [
              "Empty DataFrame\n",
              "Columns: []\n",
              "Index: [0, 1, 2, 3, 4, 5, 6, 7, 8, 9, 10, 11, 12, 13, 14, 15, 16, 17, 18, 19, 20, 21, 22, 23, 24, 25, 26, 27, 28, 29, 30, 31, 32, 33, 34, 35, 36, 37, 38, 39, 40, 41, 42, 43, 44, 45, 46, 47, 48, 49, 50, 51, 52, 53, 54, 55, 56, 57, 58, 59, 60, 61, 62, 63, 64, 65, 66, 67, 68, 69, 70, 71, 72, 73, 74, 75, 76, 77, 78, 79, 80, 81, 82, 83, 84, 85, 86, 87, 88, 89, 90, 91, 92, 93, 94, 95, 96, 97, 98, 99, ...]\n",
              "\n",
              "[721 rows x 0 columns]"
            ]
          },
          "execution_count": 179,
          "metadata": {},
          "output_type": "execute_result"
        }
      ],
      "source": [
        "X"
      ]
    },
    {
      "cell_type": "code",
      "execution_count": null,
      "metadata": {
        "colab": {
          "base_uri": "https://localhost:8080/"
        },
        "id": "CUaQgP2vTd_w",
        "outputId": "c7fbcbba-308b-4f36-ba36-74eac235014a"
      },
      "outputs": [
        {
          "data": {
            "text/plain": [
              "0     -0.726970\n",
              "1     -0.726970\n",
              "2     -0.726970\n",
              "3     -0.726970\n",
              "4     -0.048247\n",
              "         ...   \n",
              "716   -0.726970\n",
              "717    0.664051\n",
              "718    1.298385\n",
              "719    1.227510\n",
              "720    1.227510\n",
              "Name: process_cpu_percent, Length: 721, dtype: float64"
            ]
          },
          "execution_count": 180,
          "metadata": {},
          "output_type": "execute_result"
        }
      ],
      "source": [
        "Y"
      ]
    },
    {
      "cell_type": "markdown",
      "metadata": {
        "id": "7GcOGXNR-5vU"
      },
      "source": [
        "# **TEST TRAIN USING FUNCTIONS**"
      ]
    },
    {
      "cell_type": "markdown",
      "metadata": {
        "id": "ac7VoFaH_95h"
      },
      "source": [
        "NN-NEAREST NEIGHBOUR"
      ]
    },
    {
      "cell_type": "code",
      "execution_count": null,
      "metadata": {
        "id": "NmUxbU7T-6s5"
      },
      "outputs": [],
      "source": [
        "def NN1(traindata, trainlabel, query):\n",
        "  diff  = traindata - query  # find the difference between features. Numpy automatically takes care of the size here \n",
        "  sq = diff*diff # square the differences\n",
        "  dist = sq.sum(1) # add up the squares\n",
        "  label = trainlabel[np.argmin(dist)] # our predicted label is the label of the training data which has the least distance from the query\n",
        "  return label\n",
        "\n",
        "def NN(traindata, trainlabel, testdata):\n",
        "  # we will run nearest neighbour for each sample in the test data \n",
        "  # and collect the predicted classes in an array using list comprehension\n",
        "  predlabel = np.array([NN1(traindata, trainlabel, i) for i in testdata])\n",
        "  return predlabel"
      ]
    },
    {
      "cell_type": "markdown",
      "metadata": {
        "id": "iaW8YZOM_Sg1"
      },
      "source": [
        "def Accuracy(gtlabel, predlabel):\n",
        "  assert len(gtlabel)==len(predlabel), \"Length of the groundtruth labels and predicted labels should be the same\"\n",
        "  correct = (gtlabel==predlabel).sum() # count the number of times the groundtruth label is equal to the predicted label.\n",
        "  return correct/len(gtlabel)"
      ]
    },
    {
      "cell_type": "code",
      "execution_count": null,
      "metadata": {
        "id": "3ruzyPAAAVAX"
      },
      "outputs": [],
      "source": [
        "def split(data, label, percent):\n",
        "  # generate a random number for each sample\n",
        "  rnd = rng.random(len(label))\n",
        "  split1 = rnd<percent\n",
        "  split2 = rnd>=percent\n",
        "  split1data = data[split1,:]\n",
        "  split1label = label[split1]\n",
        "  split2data = data[split2,:]\n",
        "  split2label = label[split2]\n",
        "  return split1data, split1label, split2data, split2label"
      ]
    },
    {
      "cell_type": "markdown",
      "metadata": {
        "id": "6t0PQCHkVXiL"
      },
      "source": [
        "# **TEST TRAIN SPLIT**using sklearn\n",
        "\n",
        "> Indented block\n",
        "\n"
      ]
    },
    {
      "cell_type": "code",
      "execution_count": null,
      "metadata": {
        "id": "S3w47mm3Vi-H"
      },
      "outputs": [],
      "source": [
        "X_train, X_test, Y_train, Y_test = train_test_split(X, Y, test_size=0.2, random_state=2)"
      ]
    },
    {
      "cell_type": "code",
      "execution_count": null,
      "metadata": {
        "colab": {
          "base_uri": "https://localhost:8080/"
        },
        "id": "elYEk6xoC49j",
        "outputId": "62098865-2e4a-4aa5-96b1-023609804f60"
      },
      "outputs": [
        {
          "name": "stdout",
          "output_type": "stream",
          "text": [
            "(721, 0) (576, 0) (145, 0)\n"
          ]
        }
      ],
      "source": [
        "print(X.shape, X_train.shape, X_test.shape)"
      ]
    },
    {
      "cell_type": "code",
      "execution_count": null,
      "metadata": {
        "id": "1hBb7OtYDCdK"
      },
      "outputs": [],
      "source": []
    },
    {
      "cell_type": "markdown",
      "metadata": {
        "id": "yFIdb81LDIhn"
      },
      "source": [
        "# **Training Regression model**"
      ]
    },
    {
      "cell_type": "code",
      "execution_count": null,
      "metadata": {
        "id": "XuPMu6p4yNA0"
      },
      "outputs": [],
      "source": [
        "model1 = LGBMRegressor()"
      ]
    },
    {
      "cell_type": "code",
      "execution_count": null,
      "metadata": {
        "id": "VyBgvNBqzkYq"
      },
      "outputs": [],
      "source": [
        "def fit(model):\n",
        "   model.fit(X_train,Y_train)"
      ]
    },
    {
      "cell_type": "code",
      "execution_count": null,
      "metadata": {
        "id": "ISZkvsOd0oQf"
      },
      "outputs": [],
      "source": [
        "fit(model1)"
      ]
    },
    {
      "cell_type": "markdown",
      "metadata": {
        "id": "0pIb4feXEShM"
      },
      "source": [
        "# **Testing Regression model**"
      ]
    },
    {
      "cell_type": "code",
      "execution_count": null,
      "metadata": {
        "id": "ZU3FLCni2Xx7"
      },
      "outputs": [],
      "source": [
        "Y_pred1 = model1.predict(X_test)"
      ]
    },
    {
      "cell_type": "markdown",
      "metadata": {
        "id": "X2JRhNxTEyHr"
      },
      "source": [
        "# **Evaluation**"
      ]
    },
    {
      "cell_type": "markdown",
      "metadata": {
        "id": "gaPrNBUjI_p9"
      },
      "source": [
        "R Square is calculated by the sum of squared of prediction error divided by the total sum of the square which replaces the calculated prediction with mean. R Square value is between 0 to 1 and a bigger value indicates a better fit between prediction and actual value."
      ]
    },
    {
      "cell_type": "code",
      "execution_count": null,
      "metadata": {
        "colab": {
          "base_uri": "https://localhost:8080/"
        },
        "id": "VmLqNSEk71Zn",
        "outputId": "fd65597b-34d4-4900-8670-8e62d2826227"
      },
      "outputs": [
        {
          "data": {
            "text/plain": [
              "457    1.192072\n",
              "530   -1.462211\n",
              "129   -0.726970\n",
              "108   -0.726970\n",
              "710    1.262948\n",
              "         ...   \n",
              "603    1.227510\n",
              "356    1.298385\n",
              "32    -0.726970\n",
              "273    1.298385\n",
              "496   -1.426773\n",
              "Name: process_cpu_percent, Length: 145, dtype: float64"
            ]
          },
          "execution_count": 189,
          "metadata": {},
          "output_type": "execute_result"
        }
      ],
      "source": [
        "Y_test"
      ]
    },
    {
      "cell_type": "code",
      "execution_count": null,
      "metadata": {
        "colab": {
          "base_uri": "https://localhost:8080/"
        },
        "id": "yO-ZXRDR-EKd",
        "outputId": "c7df0158-d5dc-41b8-fb21-8d5f2efb9239"
      },
      "outputs": [
        {
          "data": {
            "text/plain": [
              "145"
            ]
          },
          "execution_count": 190,
          "metadata": {},
          "output_type": "execute_result"
        }
      ],
      "source": [
        "len(Y_pred1)"
      ]
    },
    {
      "cell_type": "code",
      "execution_count": null,
      "metadata": {
        "colab": {
          "base_uri": "https://localhost:8080/"
        },
        "id": "KEjVRFii-Jw0",
        "outputId": "2760af36-a262-44a7-99b2-b660363c772d"
      },
      "outputs": [
        {
          "data": {
            "text/plain": [
              "145"
            ]
          },
          "execution_count": 191,
          "metadata": {},
          "output_type": "execute_result"
        }
      ],
      "source": [
        "len(Y_test)"
      ]
    },
    {
      "cell_type": "code",
      "execution_count": null,
      "metadata": {
        "colab": {
          "base_uri": "https://localhost:8080/"
        },
        "id": "Ccdn8bSP74GV",
        "outputId": "1ee5da2e-e434-4405-8275-7d567d6157a9"
      },
      "outputs": [
        {
          "name": "stdout",
          "output_type": "stream",
          "text": [
            "[-0.01429345 -0.01429345 -0.01429345 -0.01429345 -0.01429345 -0.01429345\n",
            " -0.01429345 -0.01429345 -0.01429345 -0.01429345 -0.01429345 -0.01429345\n",
            " -0.01429345 -0.01429345 -0.01429345 -0.01429345 -0.01429345 -0.01429345\n",
            " -0.01429345 -0.01429345 -0.01429345 -0.01429345 -0.01429345 -0.01429345\n",
            " -0.01429345 -0.01429345 -0.01429345 -0.01429345 -0.01429345 -0.01429345\n",
            " -0.01429345 -0.01429345 -0.01429345 -0.01429345 -0.01429345 -0.01429345\n",
            " -0.01429345 -0.01429345 -0.01429345 -0.01429345 -0.01429345 -0.01429345\n",
            " -0.01429345 -0.01429345 -0.01429345 -0.01429345 -0.01429345 -0.01429345\n",
            " -0.01429345 -0.01429345 -0.01429345 -0.01429345 -0.01429345 -0.01429345\n",
            " -0.01429345 -0.01429345 -0.01429345 -0.01429345 -0.01429345 -0.01429345\n",
            " -0.01429345 -0.01429345 -0.01429345 -0.01429345 -0.01429345 -0.01429345\n",
            " -0.01429345 -0.01429345 -0.01429345 -0.01429345 -0.01429345 -0.01429345\n",
            " -0.01429345 -0.01429345 -0.01429345 -0.01429345 -0.01429345 -0.01429345\n",
            " -0.01429345 -0.01429345 -0.01429345 -0.01429345 -0.01429345 -0.01429345\n",
            " -0.01429345 -0.01429345 -0.01429345 -0.01429345 -0.01429345 -0.01429345\n",
            " -0.01429345 -0.01429345 -0.01429345 -0.01429345 -0.01429345 -0.01429345\n",
            " -0.01429345 -0.01429345 -0.01429345 -0.01429345 -0.01429345 -0.01429345\n",
            " -0.01429345 -0.01429345 -0.01429345 -0.01429345 -0.01429345 -0.01429345\n",
            " -0.01429345 -0.01429345 -0.01429345 -0.01429345 -0.01429345 -0.01429345\n",
            " -0.01429345 -0.01429345 -0.01429345 -0.01429345 -0.01429345 -0.01429345\n",
            " -0.01429345 -0.01429345 -0.01429345 -0.01429345 -0.01429345 -0.01429345\n",
            " -0.01429345 -0.01429345 -0.01429345 -0.01429345 -0.01429345 -0.01429345\n",
            " -0.01429345 -0.01429345 -0.01429345 -0.01429345 -0.01429345 -0.01429345\n",
            " -0.01429345 -0.01429345 -0.01429345 -0.01429345 -0.01429345 -0.01429345\n",
            " -0.01429345]\n"
          ]
        }
      ],
      "source": [
        "print(Y_pred1)"
      ]
    },
    {
      "cell_type": "code",
      "execution_count": null,
      "metadata": {
        "id": "AptJemY7E15Y"
      },
      "outputs": [
        {
          "data": {
            "text/plain": [
              "-0.0048613049619854465"
            ]
          },
          "execution_count": 193,
          "metadata": {},
          "output_type": "execute_result"
        }
      ],
      "source": [
        "metrics.r2_score(Y_test, Y_pred1,  sample_weight=None, multioutput='uniform_average')"
      ]
    },
    {
      "cell_type": "markdown",
      "metadata": {
        "id": "WWlVPVZnJ0d_"
      },
      "source": [
        "Mean Square Error(MSE)/Root Mean Square Error(RMSE)\n",
        "While R Square is a relative measure of how well the model fits dependent variables, Mean Square Error is an absolute measure of the goodness for the fit.MSE is calculated by the sum of square of prediction error which is real output minus predicted output and then divide by the number of data points."
      ]
    },
    {
      "cell_type": "code",
      "execution_count": null,
      "metadata": {
        "colab": {
          "base_uri": "https://localhost:8080/"
        },
        "id": "Zud7OlCeKL5U",
        "outputId": "f453f579-f909-456a-d2eb-a06efb53c46e"
      },
      "outputs": [
        {
          "data": {
            "text/plain": [
              "1.0441488515587867"
            ]
          },
          "execution_count": 194,
          "metadata": {},
          "output_type": "execute_result"
        }
      ],
      "source": [
        "metrics.mean_squared_error(Y_test, Y_pred1, sample_weight=None, multioutput='uniform_average', squared=True)"
      ]
    },
    {
      "cell_type": "code",
      "execution_count": null,
      "metadata": {
        "colab": {
          "base_uri": "https://localhost:8080/",
          "height": 620
        },
        "id": "fIpmPClRLLNR",
        "outputId": "65cf8c22-d883-4ce8-efaf-939712800dfd"
      },
      "outputs": [
        {
          "name": "stderr",
          "output_type": "stream",
          "text": [
            "C:\\Users\\deeks\\AppData\\Local\\Temp\\ipykernel_8096\\2091905263.py:3: UserWarning: Data has no positive values, and therefore cannot be log-scaled.\n",
            "  plt.yscale('log')\n"
          ]
        },
        {
          "data": {
            "image/png": "[encoded data removed]",
            "text/plain": [
              "<Figure size 1000x1000 with 1 Axes>"
            ]
          },
          "metadata": {},
          "output_type": "display_data"
        }
      ],
      "source": [
        "plt.figure(figsize=(10,10))\n",
        "plt.scatter(Y_test, Y_pred1, c=['crimson'])\n",
        "plt.yscale('log')\n",
        "plt.xscale('log')\n",
        "\n",
        "p1 = max(max(Y_pred1), max(Y_test))\n",
        "p2 = min(min(Y_pred1), min(Y_test))\n",
        "plt.plot([p1, p2], [p1, p2], 'b-')\n",
        "plt.xlabel('True Values', fontsize=15)\n",
        "plt.ylabel('Predictions', fontsize=15)\n",
        "plt.axis('equal')\n",
        "plt.show()"
      ]
    },
    {
      "cell_type": "code",
      "execution_count": null,
      "metadata": {
        "colab": {
          "base_uri": "https://localhost:8080/"
        },
        "id": "9Es2jRBDPzhZ",
        "outputId": "c9d5e368-e0a6-4018-cfaf-1f767319dbcf"
      },
      "outputs": [
        {
          "data": {
            "text/plain": [
              "(145,)"
            ]
          },
          "execution_count": 196,
          "metadata": {},
          "output_type": "execute_result"
        }
      ],
      "source": [
        "Y_pred1.shape"
      ]
    },
    {
      "cell_type": "code",
      "execution_count": null,
      "metadata": {
        "colab": {
          "base_uri": "https://localhost:8080/"
        },
        "id": "tVDGFS0yP9gP",
        "outputId": "2ada5b3c-f1fd-4935-ea5d-03974cc79eb8"
      },
      "outputs": [
        {
          "data": {
            "text/plain": [
              "(145,)"
            ]
          },
          "execution_count": 197,
          "metadata": {},
          "output_type": "execute_result"
        }
      ],
      "source": [
        "Y_test.shape"
      ]
    },
    {
      "cell_type": "code",
      "execution_count": null,
      "metadata": {
        "colab": {
          "base_uri": "https://localhost:8080/"
        },
        "id": "jEQ0bzdFQAJt",
        "outputId": "c7aed412-1607-4381-a35d-853a459fe438"
      },
      "outputs": [
        {
          "data": {
            "text/plain": [
              "(145, 0)"
            ]
          },
          "execution_count": 198,
          "metadata": {},
          "output_type": "execute_result"
        }
      ],
      "source": [
        "X_test.shape"
      ]
    }
  ],
  "metadata": {
    "colab": {
      "collapsed_sections": [
        "MNyVaU0Q0hb7",
        "3FXGZQod6uS3",
        "lNhRls8DTvBZ",
        "LHkQENgDRQOV",
        "e8MxHzxNS--L",
        "7GcOGXNR-5vU",
        "yFIdb81LDIhn",
        "0pIb4feXEShM"
      ],
      "provenance": []
    },
    "kernelspec": {
      "display_name": "Python 3.9.12 64-bit ('anaconda3')",
      "language": "python",
      "name": "python3"
    },
    "language_info": {
      "codemirror_mode": {
        "name": "ipython",
        "version": 3
      },
      "file_extension": ".py",
      "mimetype": "text/x-python",
      "name": "python",
      "nbconvert_exporter": "python",
      "pygments_lexer": "ipython3",
      "version": "3.9.12"
    },
    "vscode": {
      "interpreter": {
        "hash": "3931ffdfec6195d5e165149be78b2bcf3c06c67ddbdb0c08c7a33e61bd647e82"
      }
    }
  },
  "nbformat": 4,
  "nbformat_minor": 0
}
